{
 "cells": [
  {
   "cell_type": "markdown",
   "id": "71e1e721",
   "metadata": {},
   "source": [
    "## Necessary Libraries"
   ]
  },
  {
   "cell_type": "code",
   "execution_count": 1,
   "id": "2d78c461",
   "metadata": {},
   "outputs": [
    {
     "ename": "ModuleNotFoundError",
     "evalue": "No module named 'sklearn'",
     "output_type": "error",
     "traceback": [
      "\u001b[1;31m---------------------------------------------------------------------------\u001b[0m",
      "\u001b[1;31mModuleNotFoundError\u001b[0m                       Traceback (most recent call last)",
      "Cell \u001b[1;32mIn[1], line 6\u001b[0m\n\u001b[0;32m      4\u001b[0m \u001b[38;5;28;01mimport\u001b[39;00m \u001b[38;5;21;01mmatplotlib\u001b[39;00m\u001b[38;5;21;01m.\u001b[39;00m\u001b[38;5;21;01mpyplot\u001b[39;00m \u001b[38;5;28;01mas\u001b[39;00m \u001b[38;5;21;01mplt\u001b[39;00m\n\u001b[0;32m      5\u001b[0m \u001b[38;5;28;01mimport\u001b[39;00m \u001b[38;5;21;01mseaborn\u001b[39;00m \u001b[38;5;28;01mas\u001b[39;00m \u001b[38;5;21;01msns\u001b[39;00m\n\u001b[1;32m----> 6\u001b[0m \u001b[38;5;28;01mfrom\u001b[39;00m \u001b[38;5;21;01msklearn\u001b[39;00m\u001b[38;5;21;01m.\u001b[39;00m\u001b[38;5;21;01mmodel_selection\u001b[39;00m \u001b[38;5;28;01mimport\u001b[39;00m train_test_split\n\u001b[0;32m      7\u001b[0m \u001b[38;5;28;01mfrom\u001b[39;00m \u001b[38;5;21;01msklearn\u001b[39;00m\u001b[38;5;21;01m.\u001b[39;00m\u001b[38;5;21;01mpreprocessing\u001b[39;00m \u001b[38;5;28;01mimport\u001b[39;00m StandardScaler, OneHotEncoder\n\u001b[0;32m      8\u001b[0m \u001b[38;5;28;01mfrom\u001b[39;00m \u001b[38;5;21;01msklearn\u001b[39;00m\u001b[38;5;21;01m.\u001b[39;00m\u001b[38;5;21;01mlinear_model\u001b[39;00m \u001b[38;5;28;01mimport\u001b[39;00m LinearRegression, Ridge, Lasso\n",
      "\u001b[1;31mModuleNotFoundError\u001b[0m: No module named 'sklearn'"
     ]
    }
   ],
   "source": [
    "# Importing necessary libraries\n",
    "import pandas as pd\n",
    "import numpy as np\n",
    "import matplotlib.pyplot as plt\n",
    "import seaborn as sns\n",
    "from sklearn.model_selection import train_test_split\n",
    "from sklearn.preprocessing import StandardScaler, OneHotEncoder\n",
    "from sklearn.linear_model import LinearRegression, Ridge, Lasso\n",
    "from sklearn.ensemble import RandomForestRegressor, GradientBoostingRegressor\n",
    "from sklearn.metrics import mean_squared_error, r2_score\n",
    "from sklearn.compose import ColumnTransformer\n",
    "from sklearn.pipeline import Pipeline"
   ]
  },
  {
   "cell_type": "markdown",
   "id": "6aecbe9f",
   "metadata": {},
   "source": [
    "## Reading xlsx Files"
   ]
  },
  {
   "cell_type": "code",
   "execution_count": null,
   "id": "431a289e",
   "metadata": {},
   "outputs": [],
   "source": [
    "df=pd.read_excel('C:/Users/prana/OneDrive/Desktop/SOLVED/ML/MLcasestudy.xlsx',header=0)\n",
    "df=pd.read_excel('C:/Users/prana/OneDrive/Desktop/SOLVED/ML/Colleges.xlsx',header=0)\n",
    "df=pd.read_excel('C:/Users/prana/OneDrive/Desktop/SOLVED/ML/cities.xlsx',header=0)"
   ]
  },
  {
   "cell_type": "code",
   "execution_count": null,
   "id": "df314670",
   "metadata": {},
   "outputs": [
    {
     "ename": "NameError",
     "evalue": "name 'df_city' is not defined",
     "output_type": "error",
     "traceback": [
      "\u001b[1;31m---------------------------------------------------------------------------\u001b[0m",
      "\u001b[1;31mNameError\u001b[0m                                 Traceback (most recent call last)",
      "Cell \u001b[1;32mIn[3], line 2\u001b[0m\n\u001b[0;32m      1\u001b[0m metrocity \u001b[38;5;241m=\u001b[39m{}\n\u001b[1;32m----> 2\u001b[0m \u001b[38;5;28;01mfor\u001b[39;00m i \u001b[38;5;129;01min\u001b[39;00m df_city[\u001b[38;5;124m'\u001b[39m\u001b[38;5;124mMetrio City\u001b[39m\u001b[38;5;124m'\u001b[39m]:\n\u001b[0;32m      3\u001b[0m     metrocity[i] \u001b[38;5;241m=\u001b[39m \u001b[38;5;124m'\u001b[39m\u001b[38;5;124mMetro\u001b[39m\u001b[38;5;124m'\u001b[39m\n\u001b[0;32m      4\u001b[0m \u001b[38;5;28;01mfor\u001b[39;00m i \u001b[38;5;129;01min\u001b[39;00m df_city[\u001b[38;5;124m'\u001b[39m\u001b[38;5;124mnon-metro cities\u001b[39m\u001b[38;5;124m'\u001b[39m]:\n",
      "\u001b[1;31mNameError\u001b[0m: name 'df_city' is not defined"
     ]
    }
   ],
   "source": [
    "metrocity ={}\n",
    "for i in df_city['Metrio City']:\n",
    "    metrocity[i] = 'Metro'\n",
    "for i in df_city['non-metro cities']:\n",
    "    metrocity[i]= 'Non-Metro'\n",
    "    df_main['Metrocity'] = df_main['City'].map(metrocity)\n",
    "    college_tier_num = df_Colleges.melt(var_name ='Tier', value_name='College').dropna()\n",
    "    college_tier_num['Tier'] = college_tier_num['Tier'].str.replace('Tier','').astype(int)\n",
    "    df_main = df_main.merge(college_tier_num, on= 'College',how ='left')"
   ]
  },
  {
   "cell_type": "code",
   "execution_count": null,
   "id": "b760d980",
   "metadata": {},
   "outputs": [],
   "source": [
    "df_main"
   ]
  },
  {
   "cell_type": "markdown",
   "id": "bfc43eb3",
   "metadata": {},
   "source": [
    "\n",
    "# Data about to handle\n"
   ]
  },
  {
   "cell_type": "code",
   "execution_count": null,
   "id": "536850a0",
   "metadata": {},
   "outputs": [],
   "source": [
    "df_main = pd.get_dummies(df_main,columns =['Role','Metrocity'],drop_first = True)\n"
   ]
  },
  {
   "cell_type": "code",
   "execution_count": null,
   "id": "07f1a669",
   "metadata": {},
   "outputs": [],
   "source": [
    "df_main.drop(columns = ['College','City'],inplace =True)"
   ]
  },
  {
   "cell_type": "code",
   "execution_count": null,
   "id": "1b76a0b4",
   "metadata": {},
   "outputs": [],
   "source": [
    "sns.pairplot(df_main)"
   ]
  },
  {
   "cell_type": "code",
   "execution_count": null,
   "id": "d327be61",
   "metadata": {},
   "outputs": [],
   "source": [
    "sns.jointplot(x='Previous CTC',y='CTC',data=df_main)"
   ]
  },
  {
   "cell_type": "code",
   "execution_count": null,
   "id": "3d0d6443",
   "metadata": {},
   "outputs": [],
   "source": [
    "X = df_main.drop(columns= ['CTC'],axis=1)\n",
    "# Split the training and testing data"
   ]
  },
  {
   "cell_type": "code",
   "execution_count": null,
   "id": "a68f75ff",
   "metadata": {},
   "outputs": [],
   "source": [
    "y =df_main['CTC']"
   ]
  },
  {
   "cell_type": "code",
   "execution_count": null,
   "id": "02e359e9",
   "metadata": {},
   "outputs": [],
   "source": [
    "X.head()"
   ]
  },
  {
   "cell_type": "code",
   "execution_count": null,
   "id": "d8fd53bf",
   "metadata": {},
   "outputs": [],
   "source": [
    "X_train,X_test,y_train,y_test =train_test_split(X,y,test_size =0.2,random_state =42)"
   ]
  },
  {
   "cell_type": "markdown",
   "id": "cf993681",
   "metadata": {},
   "source": [
    "## Feature Scaling (Normalization)"
   ]
  },
  {
   "cell_type": "code",
   "execution_count": null,
   "id": "c76ba433",
   "metadata": {},
   "outputs": [],
   "source": [
    "from sklearn.preprocessing import StandardScaler"
   ]
  },
  {
   "cell_type": "code",
   "execution_count": null,
   "id": "13f3a1b7",
   "metadata": {},
   "outputs": [],
   "source": [
    "scaler = StandardScaler()"
   ]
  },
  {
   "cell_type": "code",
   "execution_count": null,
   "id": "baa18617",
   "metadata": {},
   "outputs": [],
   "source": [
    "X_train_scaled = scaler.fit_transform(X_train)"
   ]
  },
  {
   "cell_type": "code",
   "execution_count": null,
   "id": "042a96ae",
   "metadata": {},
   "outputs": [],
   "source": [
    "X_test_scaled = scaler.transform(X_test)"
   ]
  },
  {
   "cell_type": "markdown",
   "id": "f9a92542",
   "metadata": {},
   "source": [
    "## Linear Regression "
   ]
  },
  {
   "cell_type": "code",
   "execution_count": null,
   "id": "71ac33f5",
   "metadata": {},
   "outputs": [],
   "source": [
    "from sklearn.linear_model import LinearRegression"
   ]
  },
  {
   "cell_type": "code",
   "execution_count": null,
   "id": "068615ea",
   "metadata": {},
   "outputs": [],
   "source": [
    "linear_reg = LinearRegression()\n",
    "linear_reg.fit(X_train_scaled,y_train)"
   ]
  },
  {
   "cell_type": "code",
   "execution_count": null,
   "id": "93e98a40",
   "metadata": {},
   "outputs": [],
   "source": [
    "y_pred_linear = linear_reg.predict(X_test_scaled)"
   ]
  },
  {
   "cell_type": "code",
   "execution_count": null,
   "id": "fc36700b",
   "metadata": {},
   "outputs": [],
   "source": [
    "from sklearn.metrics import mean_squared_error, r2_score"
   ]
  },
  {
   "cell_type": "code",
   "execution_count": null,
   "id": "7200a8d7",
   "metadata": {},
   "outputs": [],
   "source": [
    "mse_linear = mean_squared_error(y_test, y_pred_linear)\n",
    "r2_linear = r2_score(y_test, y_pred_linear)"
   ]
  },
  {
   "cell_type": "code",
   "execution_count": null,
   "id": "e1aca859",
   "metadata": {},
   "outputs": [],
   "source": [
    "print(f\"Linear Regression (with Normalization) - MSE: {mse_linear}, R-squared: {r2_linear}\")"
   ]
  },
  {
   "cell_type": "code",
   "execution_count": null,
   "id": "1417f6da",
   "metadata": {},
   "outputs": [],
   "source": [
    "results ={}"
   ]
  },
  {
   "cell_type": "code",
   "execution_count": null,
   "id": "71a67db2",
   "metadata": {},
   "outputs": [],
   "source": [
    "results['Linear Regression'] = {'MSE': mse_linear, 'R-squared': r2_linear}"
   ]
  },
  {
   "cell_type": "markdown",
   "id": "b7df9ee7",
   "metadata": {},
   "source": [
    "## Ridge Regression"
   ]
  },
  {
   "cell_type": "code",
   "execution_count": null,
   "id": "284530e1",
   "metadata": {},
   "outputs": [],
   "source": [
    "from sklearn.linear_model import Ridge"
   ]
  },
  {
   "cell_type": "code",
   "execution_count": null,
   "id": "86958940",
   "metadata": {},
   "outputs": [],
   "source": [
    "ridge_reg = Ridge()\n",
    "ridge_reg.fit(X_train_scaled,y_train)"
   ]
  },
  {
   "cell_type": "code",
   "execution_count": null,
   "id": "718b1e71",
   "metadata": {},
   "outputs": [],
   "source": [
    "y_pred_ridge = ridge_reg.predict(X_test_scaled)"
   ]
  },
  {
   "cell_type": "code",
   "execution_count": null,
   "id": "b3f260ca",
   "metadata": {},
   "outputs": [],
   "source": [
    "mse_ridge = mean_squared_error(y_test, y_pred_ridge)"
   ]
  },
  {
   "cell_type": "code",
   "execution_count": null,
   "id": "c1934918",
   "metadata": {},
   "outputs": [],
   "source": [
    "r2_ridge = r2_score(y_test,y_pred_ridge)"
   ]
  },
  {
   "cell_type": "code",
   "execution_count": null,
   "id": "0253cb6b",
   "metadata": {},
   "outputs": [],
   "source": [
    "print(f\"Ridge Regression (with Normalization) - MSE: {mse_ridge}, R-squared: {r2_ridge}\")"
   ]
  },
  {
   "cell_type": "code",
   "execution_count": null,
   "id": "1be02a97",
   "metadata": {},
   "outputs": [],
   "source": [
    "results['Ridge Regression'] = {'MSE': mse_ridge, 'R-squared': r2_ridge}"
   ]
  },
  {
   "cell_type": "markdown",
   "id": "a71daf63",
   "metadata": {},
   "source": [
    "## Lasso Regression"
   ]
  },
  {
   "cell_type": "code",
   "execution_count": null,
   "id": "5403e62c",
   "metadata": {},
   "outputs": [],
   "source": [
    "from sklearn.linear_model import Lasso "
   ]
  },
  {
   "cell_type": "code",
   "execution_count": null,
   "id": "0d921f64",
   "metadata": {},
   "outputs": [],
   "source": [
    "lasso_reg = Lasso()\n"
   ]
  },
  {
   "cell_type": "code",
   "execution_count": null,
   "id": "78afc5a2",
   "metadata": {},
   "outputs": [],
   "source": [
    "y_pred_lasso = lasso_reg.predict(X_test_scaled)"
   ]
  },
  {
   "cell_type": "code",
   "execution_count": null,
   "id": "8cf969d9",
   "metadata": {},
   "outputs": [],
   "source": [
    "mse_lasso =mean_squared_error(y_test, y_pred_lasso)"
   ]
  },
  {
   "cell_type": "code",
   "execution_count": null,
   "id": "f987c218",
   "metadata": {},
   "outputs": [],
   "source": [
    "r2_lasso = r2_score(y_test,y_pred_lasso)"
   ]
  },
  {
   "cell_type": "code",
   "execution_count": null,
   "id": "977b1c35",
   "metadata": {},
   "outputs": [],
   "source": [
    "print(f\"Lasso Regression (with Normalization) - MSE: {mse_lasso}, R-squared: {r2_lasso}\")"
   ]
  },
  {
   "cell_type": "markdown",
   "id": "9d766c84",
   "metadata": {},
   "source": [
    "## Decision Tree Regressor (without Normalization)"
   ]
  },
  {
   "cell_type": "code",
   "execution_count": null,
   "id": "12eddcea",
   "metadata": {},
   "outputs": [],
   "source": [
    "from sklearn.tree import DecisionTreeRegressor"
   ]
  },
  {
   "cell_type": "code",
   "execution_count": null,
   "id": "a7609392",
   "metadata": {},
   "outputs": [],
   "source": [
    "tree_reg = DecisionTreeRegressor()\n",
    "tree_reg.fit(X_train,y_train)"
   ]
  },
  {
   "cell_type": "code",
   "execution_count": null,
   "id": "2e2ab0b5",
   "metadata": {},
   "outputs": [],
   "source": [
    "y_pred_tree = tree_reg.predict(X_test)"
   ]
  },
  {
   "cell_type": "code",
   "execution_count": null,
   "id": "cbbe6d76",
   "metadata": {},
   "outputs": [],
   "source": [
    "mse_tree = mean_squared_error(y_test,y_pred_tree)"
   ]
  },
  {
   "cell_type": "code",
   "execution_count": null,
   "id": "7533e7d3",
   "metadata": {},
   "outputs": [],
   "source": [
    "r2_tree = r2_score(y_test,y_pred_tree)"
   ]
  },
  {
   "cell_type": "code",
   "execution_count": null,
   "id": "dd6da010",
   "metadata": {},
   "outputs": [],
   "source": [
    "print(f\"Decision Tree Regressor - MSE: {mse_tree}, R-squared: {r2_tree}\")"
   ]
  },
  {
   "cell_type": "code",
   "execution_count": null,
   "id": "eff8d324",
   "metadata": {},
   "outputs": [],
   "source": [
    "results['Decision Tree'] = {'MSE': mse_tree, 'R-squared': r2_tree}"
   ]
  },
  {
   "cell_type": "markdown",
   "id": "9df8540c",
   "metadata": {},
   "source": [
    "## Random Forest Regressor "
   ]
  },
  {
   "cell_type": "code",
   "execution_count": null,
   "id": "0c5e99e0",
   "metadata": {},
   "outputs": [],
   "source": [
    "from sklearn.ensemble import RandomForestRegressor"
   ]
  },
  {
   "cell_type": "code",
   "execution_count": null,
   "id": "849beecd",
   "metadata": {},
   "outputs": [],
   "source": [
    "forest_reg = RandomForestRegressor()\n",
    "forest_reg.fit(X_train,y_train)"
   ]
  },
  {
   "cell_type": "code",
   "execution_count": null,
   "id": "0837ed70",
   "metadata": {},
   "outputs": [],
   "source": [
    "y_pred_forest = forest_reg.predict(X_test)"
   ]
  },
  {
   "cell_type": "code",
   "execution_count": null,
   "id": "53acd0cc",
   "metadata": {},
   "outputs": [],
   "source": [
    "mse_forest = mean_squared_error(y_test,y_pred_forest)"
   ]
  },
  {
   "cell_type": "code",
   "execution_count": null,
   "id": "c0c6547c",
   "metadata": {},
   "outputs": [],
   "source": [
    "r2_forest = r2_score(y_test,y_pred_forest)"
   ]
  },
  {
   "cell_type": "code",
   "execution_count": null,
   "id": "b226e1f6",
   "metadata": {},
   "outputs": [],
   "source": [
    "print(f\"Random Forest Regressor - MSE: {mse_forest}, R-squared: {r2_forest}\")"
   ]
  },
  {
   "cell_type": "code",
   "execution_count": null,
   "id": "9c90d8e7",
   "metadata": {},
   "outputs": [],
   "source": [
    "results['Random Forest'] = {'MSE': mse_forest, 'R-squared': r2_forest}"
   ]
  },
  {
   "cell_type": "code",
   "execution_count": null,
   "id": "2a1cbdc3",
   "metadata": {},
   "outputs": [],
   "source": [
    "results_df = pd.DataFrame(results).T"
   ]
  },
  {
   "cell_type": "code",
   "execution_count": null,
   "id": "465379b6",
   "metadata": {},
   "outputs": [],
   "source": [
    "print(results_df)"
   ]
  },
  {
   "cell_type": "code",
   "execution_count": null,
   "id": "0bfd4202",
   "metadata": {},
   "outputs": [],
   "source": [
    "best_model_name = results_df['R-squared'].idxmax()\n",
    "# Identify the best model based on R-squared"
   ]
  },
  {
   "cell_type": "code",
   "execution_count": null,
   "id": "449a58e5",
   "metadata": {},
   "outputs": [],
   "source": [
    "best_model_r2 = results_df.loc[best_model_name, 'R-squared']"
   ]
  },
  {
   "cell_type": "code",
   "execution_count": null,
   "id": "de784c14",
   "metadata": {},
   "outputs": [],
   "source": [
    "print(f\"The best model based on R-squared is {best_model_name} with R-squared: {best_model_r2:.4f}\")"
   ]
  },
  {
   "cell_type": "markdown",
   "id": "3e4393b6",
   "metadata": {},
   "source": [
    "## Identifying the best model "
   ]
  },
  {
   "cell_type": "code",
   "execution_count": null,
   "id": "0b4d6939",
   "metadata": {},
   "outputs": [],
   "source": [
    "best_model_mse_name = results_df['MSE'].idxmin()"
   ]
  },
  {
   "cell_type": "code",
   "execution_count": null,
   "id": "122f19b1",
   "metadata": {},
   "outputs": [],
   "source": [
    "best_model_mse = results_df.loc[best_model_mse_name, 'MSE']"
   ]
  },
  {
   "cell_type": "code",
   "execution_count": null,
   "id": "bbb274ff",
   "metadata": {},
   "outputs": [],
   "source": [
    "print(f\"The best model based on MSE is {best_model_mse_name} with MSE: {best_model_mse:.4f}\")"
   ]
  },
  {
   "cell_type": "markdown",
   "id": "6d33f284",
   "metadata": {},
   "source": [
    "## the Random Forest model"
   ]
  },
  {
   "cell_type": "code",
   "execution_count": null,
   "id": "7a1b851a",
   "metadata": {},
   "outputs": [],
   "source": [
    "from sklearn.model_selection import GridSearchCV"
   ]
  },
  {
   "cell_type": "code",
   "execution_count": null,
   "id": "7a5af2c3",
   "metadata": {},
   "outputs": [],
   "source": [
    "param_grid = {\n",
    "    'n_estimators': [100, 200, 300],  # Number of trees in the forest\n",
    "    'max_depth': [None, 10, 20, 30],  # Maximum depth of the tree\n",
    "    'min_samples_split': [2, 5, 10],  # Minimum number of samples required to split a node\n",
    "    'min_samples_leaf': [1, 2, 4],    # Minimum number of samples required at each leaf node\n",
    "    'max_features': ['auto', 'sqrt'],  # Number of features to consider when looking for the best split\n",
    "}"
   ]
  },
  {
   "cell_type": "code",
   "execution_count": null,
   "id": "53170e62",
   "metadata": {},
   "outputs": [],
   "source": [
    "grid_search = GridSearchCV(estimator=forest_reg, param_grid=param_grid, cv=5, scoring='neg_mean_squared_error', n_jobs=-1, verbose=2)"
   ]
  },
  {
   "cell_type": "code",
   "execution_count": null,
   "id": "ba270210",
   "metadata": {},
   "outputs": [],
   "source": [
    "best_params = grid_search.best_params_"
   ]
  },
  {
   "cell_type": "code",
   "execution_count": null,
   "id": "46f39224",
   "metadata": {},
   "outputs": [],
   "source": [
    "print(\"Best hyperparameters found by Grid Search:\", best_params)"
   ]
  },
  {
   "cell_type": "code",
   "execution_count": null,
   "id": "230726a0",
   "metadata": {},
   "outputs": [],
   "source": [
    "best_rf = grid_search.best_estimator_"
   ]
  },
  {
   "cell_type": "code",
   "execution_count": null,
   "id": "379a0dc2",
   "metadata": {},
   "outputs": [],
   "source": [
    "y_pred_best_rf = best_rf.predict(X_test)"
   ]
  },
  {
   "cell_type": "code",
   "execution_count": null,
   "id": "e478db91",
   "metadata": {},
   "outputs": [],
   "source": [
    "mse_best_rf = mean_squared_error(y_test, y_pred_best_rf)"
   ]
  },
  {
   "cell_type": "code",
   "execution_count": null,
   "id": "7d516089",
   "metadata": {},
   "outputs": [],
   "source": [
    "r2_best_rf = r2_score(y_test, y_pred_best_rf)"
   ]
  },
  {
   "cell_type": "code",
   "execution_count": null,
   "id": "61991c08",
   "metadata": {},
   "outputs": [],
   "source": [
    "print(f\"Random Forest with Hyperparameter Tuning - MSE: {mse_best_rf}, R-squared: {r2_best_rf}\")"
   ]
  },
  {
   "cell_type": "code",
   "execution_count": null,
   "id": "b2fe0c6e",
   "metadata": {},
   "outputs": [],
   "source": []
  }
 ],
 "metadata": {
  "kernelspec": {
   "display_name": "Python 3",
   "language": "python",
   "name": "python3"
  },
  "language_info": {
   "codemirror_mode": {
    "name": "ipython",
    "version": 3
   },
   "file_extension": ".py",
   "mimetype": "text/x-python",
   "name": "python",
   "nbconvert_exporter": "python",
   "pygments_lexer": "ipython3",
   "version": "3.10.11"
  }
 },
 "nbformat": 4,
 "nbformat_minor": 5
}
